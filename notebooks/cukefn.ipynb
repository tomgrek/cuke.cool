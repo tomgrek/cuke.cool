{
 "cells": [
  {
   "cell_type": "code",
   "execution_count": 12,
   "id": "27f333bd-d0c3-4a33-8dbb-26eea856d87f",
   "metadata": {
    "tags": []
   },
   "outputs": [
    {
     "name": "stdout",
     "output_type": "stream",
     "text": [
      "The autoreload extension is already loaded. To reload it, use:\n",
      "  %reload_ext autoreload\n"
     ]
    }
   ],
   "source": [
    "%load_ext autoreload\n",
    "%autoreload 2"
   ]
  },
  {
   "cell_type": "code",
   "execution_count": 2,
   "id": "e276c31a-9925-4eb3-ae14-801a6bb332e6",
   "metadata": {
    "tags": []
   },
   "outputs": [],
   "source": [
    "from cuke import Cuke"
   ]
  },
  {
   "cell_type": "code",
   "execution_count": 3,
   "id": "1e4eddea-d98b-4944-b900-b98933f8101d",
   "metadata": {
    "tags": []
   },
   "outputs": [],
   "source": [
    "c = Cuke(url=\"http://localhost:5000\", page_id=\"docker\", api_key=\"9PPo9O6GpnZl5k1mqhjyczoDXfylrUt7\", instant_updates=False)"
   ]
  },
  {
   "cell_type": "code",
   "execution_count": 49,
   "id": "3f394c44-d920-4393-9e07-6a960994d56c",
   "metadata": {
    "tags": []
   },
   "outputs": [],
   "source": [
    "c = Cuke(url=\"https://cuke.cool\", page_id=\"docker\", api_key=\"n0kxUXx5-M1qtYI-ACnuPtewJ7pFjfxv\")"
   ]
  },
  {
   "cell_type": "code",
   "execution_count": 4,
   "id": "82e6cbbe-be30-4ff8-b702-3c51bce775d6",
   "metadata": {
    "tags": []
   },
   "outputs": [],
   "source": [
    "c.hello_from_fn = \"hello3\""
   ]
  },
  {
   "cell_type": "code",
   "execution_count": 5,
   "id": "92cb5b57-6c72-42a5-bf1e-fcaba3320089",
   "metadata": {
    "tags": []
   },
   "outputs": [],
   "source": [
    "c._template"
   ]
  },
  {
   "cell_type": "code",
   "execution_count": 35,
   "id": "0add039e-c373-4df1-86ee-7a3d138bd985",
   "metadata": {
    "tags": []
   },
   "outputs": [],
   "source": [
    "def myfn(cuke):\n",
    "    \"\"\"do sth\"\"\"\n",
    "    # cuke: trigger every hour\n",
    "    \n",
    "    from datetime import datetime as dt\n",
    "    print(\"penix\")\n",
    "    print(cuke._template)\n",
    "    cuke.hello_from_fn = f\"HELLO YEAH!{str(dt.now())}\"\n",
    "    cuke._update()"
   ]
  },
  {
   "cell_type": "code",
   "execution_count": 36,
   "id": "7dd45263-b109-4925-b65c-cfb9be7dd49c",
   "metadata": {
    "tags": []
   },
   "outputs": [],
   "source": [
    "c.myfn = myfn"
   ]
  },
  {
   "cell_type": "code",
   "execution_count": 8,
   "id": "9ebedc11-f557-47d6-a67e-b0e30dda0aaa",
   "metadata": {
    "tags": []
   },
   "outputs": [],
   "source": [
    "c._template = \"<h1>HELLO {{ hello_from_fn }}</h1>\""
   ]
  },
  {
   "cell_type": "code",
   "execution_count": 37,
   "id": "c99dae91-f3ed-43f8-b643-3775da500bfa",
   "metadata": {
    "tags": []
   },
   "outputs": [
    {
     "data": {
      "text/plain": [
       "{'__meta__': {},\n",
       " 'myfn': {'type': 'function',\n",
       "  'value': '\"\"\"do sth\"\"\"\\n# cuke: trigger every hour\\n\\nfrom datetime import datetime as dt\\nprint(\"penix\")\\nprint(cuke._template)\\ncuke.hello_from_fn = f\"HELLO YEAH!{str(dt.now())}\"\\ncuke._update()\\n'}}"
      ]
     },
     "execution_count": 37,
     "metadata": {},
     "output_type": "execute_result"
    }
   ],
   "source": [
    "c._update()"
   ]
  },
  {
   "cell_type": "code",
   "execution_count": 10,
   "id": "1e2a82ef-983b-4f26-8273-463237dc9f59",
   "metadata": {
    "tags": []
   },
   "outputs": [
    {
     "data": {
      "text/plain": [
       "'http://localhost:5000/page/111673864004717653546/docker'"
      ]
     },
     "execution_count": 10,
     "metadata": {},
     "output_type": "execute_result"
    }
   ],
   "source": [
    "c._page_url"
   ]
  },
  {
   "cell_type": "code",
   "execution_count": 11,
   "id": "7c9d6106-aea4-4856-8dcb-7909d1a983fb",
   "metadata": {
    "tags": []
   },
   "outputs": [
    {
     "data": {
      "text/plain": [
       "'eaIQQQc5En4lrhktNMb-kP_INRQfB60h'"
      ]
     },
     "execution_count": 11,
     "metadata": {},
     "output_type": "execute_result"
    }
   ],
   "source": [
    "c._editor_key"
   ]
  },
  {
   "cell_type": "code",
   "execution_count": 33,
   "id": "97c27652-2fe5-47c1-a497-331e0798a1fa",
   "metadata": {
    "tags": []
   },
   "outputs": [],
   "source": [
    "import inspect"
   ]
  },
  {
   "cell_type": "code",
   "execution_count": 34,
   "id": "f392b722-36f8-4252-af68-6425277f0ce2",
   "metadata": {
    "tags": []
   },
   "outputs": [
    {
     "data": {
      "text/plain": [
       "(['def myfn(*args, **kwargs):\\n', '    print(\"hello\")\\n'], 1)"
      ]
     },
     "execution_count": 34,
     "metadata": {},
     "output_type": "execute_result"
    }
   ],
   "source": [
    "inspect.getsourcelines(myfn)"
   ]
  },
  {
   "cell_type": "code",
   "execution_count": 35,
   "id": "b414a95a-3612-4429-9591-a360087201da",
   "metadata": {
    "tags": []
   },
   "outputs": [],
   "source": [
    "import inspect\n",
    "from itertools import dropwhile\n",
    "\n",
    "\n",
    "def get_function_body(func):\n",
    "    source_lines = inspect.getsourcelines(func)[0]\n",
    "    source_lines = dropwhile(lambda x: x.startswith('@'), source_lines)\n",
    "    line = next(source_lines).strip()\n",
    "    if not line.startswith('def '):\n",
    "        return line.rsplit(':')[-1].strip()\n",
    "    elif not line.endswith(':'):\n",
    "        for line in source_lines:\n",
    "            line = line.strip()\n",
    "            if line.endswith(':'):\n",
    "                break\n",
    "    # Handle functions that are not one-liners  \n",
    "    first_line = next(source_lines)\n",
    "    # Find the indentation of the first line    \n",
    "    indentation = len(first_line) - len(first_line.lstrip())\n",
    "    return ''.join([first_line[indentation:]] + [line[indentation:] for line in source_lines])"
   ]
  },
  {
   "cell_type": "code",
   "execution_count": 38,
   "id": "e20bb6d4-30ac-47be-82b2-86552d31d254",
   "metadata": {
    "tags": []
   },
   "outputs": [
    {
     "data": {
      "text/plain": [
       "'# cuke: trigger every hour\\nprint(\"hello\")\\n'"
      ]
     },
     "execution_count": 38,
     "metadata": {},
     "output_type": "execute_result"
    }
   ],
   "source": [
    "get_function_body(myfn)"
   ]
  },
  {
   "cell_type": "code",
   "execution_count": 59,
   "id": "530f079c-dfbb-4dda-87fa-0b5488d50d6a",
   "metadata": {
    "tags": []
   },
   "outputs": [],
   "source": [
    "c = Cuke(url='http://localhost:5000', page_slug='111673864004717653546', page_id='docker', editor_key='WAiN0bZsit2lu9i7S0X1LoaLjx-ws7dM')"
   ]
  },
  {
   "cell_type": "code",
   "execution_count": 60,
   "id": "71e470b2-98c9-409e-a083-98abe91319a7",
   "metadata": {
    "tags": []
   },
   "outputs": [
    {
     "data": {
      "text/plain": [
       "\"<h1 class='title is-1'>HELLO</h1>\""
      ]
     },
     "execution_count": 60,
     "metadata": {},
     "output_type": "execute_result"
    }
   ],
   "source": [
    "c._template"
   ]
  },
  {
   "cell_type": "code",
   "execution_count": 56,
   "id": "b340cd09-902c-4154-85f3-ad26e3b870a8",
   "metadata": {},
   "outputs": [
    {
     "data": {
      "text/plain": [
       "\"Running fn.py\\npenix\\n<h1 class='title is-1'>HELLO {{ hello_from_fn }}</h1>\\nCalling home to signal done\\nAuthorization: eaIQQQc5En4lrhktNMb-kP_INRQfB60h\\nCalling http://host.docker.internal:5000/page/111673864004717653546/docker/done/myfn\\nok\""
      ]
     },
     "execution_count": 56,
     "metadata": {},
     "output_type": "execute_result"
    }
   ],
   "source": [
    "c.myfn()"
   ]
  },
  {
   "cell_type": "code",
   "execution_count": 55,
   "id": "98959fff-f171-4d19-b142-80f0524064fc",
   "metadata": {},
   "outputs": [
    {
     "data": {
      "text/plain": [
       "<cuke.Cuke._CukeFun at 0x7f2f62949e20>"
      ]
     },
     "execution_count": 55,
     "metadata": {},
     "output_type": "execute_result"
    }
   ],
   "source": [
    "c.myfn # and press shift tab to see dynamic docstring!"
   ]
  }
 ],
 "metadata": {
  "kernelspec": {
   "display_name": "Python 3 (ipykernel)",
   "language": "python",
   "name": "python3"
  },
  "language_info": {
   "codemirror_mode": {
    "name": "ipython",
    "version": 3
   },
   "file_extension": ".py",
   "mimetype": "text/x-python",
   "name": "python",
   "nbconvert_exporter": "python",
   "pygments_lexer": "ipython3",
   "version": "3.8.10"
  }
 },
 "nbformat": 4,
 "nbformat_minor": 5
}
