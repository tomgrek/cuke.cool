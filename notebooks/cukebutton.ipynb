{
 "cells": [
  {
   "cell_type": "code",
   "execution_count": 1,
   "id": "add97641-4617-4dfb-b840-e3cb3fcb0cfb",
   "metadata": {
    "tags": []
   },
   "outputs": [],
   "source": [
    "%load_ext autoreload\n",
    "%autoreload 2"
   ]
  },
  {
   "cell_type": "code",
   "execution_count": 2,
   "id": "fa4a0237-caf6-4b59-ae8a-58bc43097330",
   "metadata": {
    "tags": []
   },
   "outputs": [],
   "source": [
    "from cuke import Cuke"
   ]
  },
  {
   "cell_type": "code",
   "execution_count": 3,
   "id": "0e4a7e34-4964-4cb9-8aed-7e9c58ce294a",
   "metadata": {
    "tags": []
   },
   "outputs": [],
   "source": [
    "c = Cuke(url=\"http://localhost:5000\", page_id=\"button\", api_key=\"9PPo9O6GpnZl5k1mqhjyczoDXfylrUt7\", instant_updates=False)"
   ]
  },
  {
   "cell_type": "code",
   "execution_count": 4,
   "id": "3fb975d3-3b5a-4510-9f6c-f8d456c2c7f5",
   "metadata": {
    "tags": []
   },
   "outputs": [
    {
     "ename": "KeyError",
     "evalue": "'likes'",
     "output_type": "error",
     "traceback": [
      "\u001b[0;31m---------------------------------------------------------------------------\u001b[0m",
      "\u001b[0;31mKeyError\u001b[0m                                  Traceback (most recent call last)",
      "Cell \u001b[0;32mIn [4], line 1\u001b[0m\n\u001b[0;32m----> 1\u001b[0m \u001b[43mc\u001b[49m\u001b[38;5;241;43m.\u001b[39;49m\u001b[43mlikes\u001b[49m\n",
      "File \u001b[0;32m~/proj/cuke.cool/cuke/__init__.py:66\u001b[0m, in \u001b[0;36mCuke.__getattribute__\u001b[0;34m(self, key)\u001b[0m\n\u001b[1;32m     64\u001b[0m \u001b[38;5;28;01mdef\u001b[39;00m \u001b[38;5;21m__getattribute__\u001b[39m(\u001b[38;5;28mself\u001b[39m, key):\n\u001b[1;32m     65\u001b[0m     \u001b[38;5;28;01mif\u001b[39;00m \u001b[38;5;129;01mnot\u001b[39;00m key\u001b[38;5;241m.\u001b[39mstartswith(\u001b[38;5;124m\"\u001b[39m\u001b[38;5;124m_\u001b[39m\u001b[38;5;124m\"\u001b[39m):\n\u001b[0;32m---> 66\u001b[0m         \u001b[38;5;28;01mreturn\u001b[39;00m \u001b[38;5;28;43mself\u001b[39;49m\u001b[38;5;241;43m.\u001b[39;49m\u001b[43m_vars\u001b[49m\u001b[43m[\u001b[49m\u001b[43mkey\u001b[49m\u001b[43m]\u001b[49m\n\u001b[1;32m     67\u001b[0m     \u001b[38;5;28;01mreturn\u001b[39;00m \u001b[38;5;28msuper\u001b[39m()\u001b[38;5;241m.\u001b[39m\u001b[38;5;21m__getattribute__\u001b[39m(key)\n",
      "\u001b[0;31mKeyError\u001b[0m: 'likes'"
     ]
    }
   ],
   "source": [
    "c.likes"
   ]
  },
  {
   "cell_type": "code",
   "execution_count": 5,
   "id": "5dfe9537-36c7-42b4-8d80-0787f85f3d50",
   "metadata": {
    "tags": []
   },
   "outputs": [],
   "source": [
    "c._template = \"<h1>A button!</h1>\" + \\\n",
    "              \"<p>{{ button('likes', 'increment') }}</p>\"+ \\\n",
    "              \"<h2>And the value of likes is {{ likes }}</h2>\" + \\\n",
    "              \"<h3>which in smaller text is: {{ likes }}</h3>\""
   ]
  },
  {
   "cell_type": "code",
   "execution_count": 6,
   "id": "f8f18f53-4d62-4dd9-9a07-67bc37009bed",
   "metadata": {
    "tags": []
   },
   "outputs": [
    {
     "data": {
      "text/plain": [
       "{'contributor_key': 'EWmNvVn9_bB8rXlvwVDHOIdJDTmoYqRV',\n",
       " 'editor_key': 'A9XvYmNCI_SL37ATu4f4Lr9twqxwHPzB',\n",
       " 'url': '/page/111673864004717653546/button',\n",
       " '_template': \"<h1>A button!</h1><p>{{ button('likes', 'increment') }}</p><h2>And the value of likes is {{ likes }}</h2><h3>which in smaller text is: {{ likes }}</h3>\"}"
      ]
     },
     "execution_count": 6,
     "metadata": {},
     "output_type": "execute_result"
    }
   ],
   "source": [
    "c._update()"
   ]
  },
  {
   "cell_type": "code",
   "execution_count": 7,
   "id": "d3608f31-f6e8-467e-a9ff-37f75d77097c",
   "metadata": {
    "tags": []
   },
   "outputs": [
    {
     "data": {
      "text/plain": [
       "{'__meta__': {}, 'likes': {'type': 'basic', 'value': 4}}"
      ]
     },
     "execution_count": 7,
     "metadata": {},
     "output_type": "execute_result"
    }
   ],
   "source": [
    "c.likes = 4\n",
    "c._update()"
   ]
  },
  {
   "cell_type": "code",
   "execution_count": null,
   "id": "6c10f90c-c18a-426b-beeb-d21e4e8bc0b0",
   "metadata": {},
   "outputs": [],
   "source": []
  },
  {
   "cell_type": "code",
   "execution_count": null,
   "id": "bd6afd2e-7d63-44f0-8aef-98516c16b242",
   "metadata": {},
   "outputs": [],
   "source": []
  }
 ],
 "metadata": {
  "kernelspec": {
   "display_name": "Python 3 (ipykernel)",
   "language": "python",
   "name": "python3"
  },
  "language_info": {
   "codemirror_mode": {
    "name": "ipython",
    "version": 3
   },
   "file_extension": ".py",
   "mimetype": "text/x-python",
   "name": "python",
   "nbconvert_exporter": "python",
   "pygments_lexer": "ipython3",
   "version": "3.8.10"
  }
 },
 "nbformat": 4,
 "nbformat_minor": 5
}
