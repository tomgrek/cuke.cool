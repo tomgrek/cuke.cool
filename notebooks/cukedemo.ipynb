{
 "cells": [
  {
   "cell_type": "code",
   "execution_count": 1,
   "id": "add97641-4617-4dfb-b840-e3cb3fcb0cfb",
   "metadata": {
    "tags": []
   },
   "outputs": [],
   "source": [
    "%load_ext autoreload\n",
    "%autoreload 2"
   ]
  },
  {
   "cell_type": "code",
   "execution_count": 2,
   "id": "fa4a0237-caf6-4b59-ae8a-58bc43097330",
   "metadata": {
    "tags": []
   },
   "outputs": [],
   "source": [
    "from cuke import Cuke"
   ]
  },
  {
   "cell_type": "code",
   "execution_count": 3,
   "id": "0e4a7e34-4964-4cb9-8aed-7e9c58ce294a",
   "metadata": {
    "tags": []
   },
   "outputs": [],
   "source": [
    "c = Cuke(url=\"http://localhost:5000\", page_id=\"poo\", api_key=\"9PPo9O6GpnZl5k1mqhjyczoDXfylrUt7\", instant_updates=False)"
   ]
  },
  {
   "cell_type": "code",
   "execution_count": 4,
   "id": "5dfe9537-36c7-42b4-8d80-0787f85f3d50",
   "metadata": {
    "tags": []
   },
   "outputs": [],
   "source": [
    "c._template = \"<h1>Popular Fruitas</h1>\" + \\\n",
    "              \"<p>This is a list of popular fruitas.</p>{{ fig }}<p>yeah? wot--</p>{{ wot|historical('wot', 3) }}\" + \\\n",
    "              \"<h2>now a wot chart</h2>{{ wot|chart('wot', 7, 'timestamp') }}\" + \\\n",
    "              \"<h3>finally, basic wot is {{wot}}</h3>\""
   ]
  },
  {
   "cell_type": "code",
   "execution_count": 5,
   "id": "f8f18f53-4d62-4dd9-9a07-67bc37009bed",
   "metadata": {
    "tags": []
   },
   "outputs": [
    {
     "data": {
      "text/plain": [
       "{'contributor_key': 'pemkuehu6shKJf0M1h_SW77OnYDvqrjE',\n",
       " 'editor_key': '0N-MkcQsHhrImKsKLpU0JkXCgMRcWlkM',\n",
       " 'url': '/page/111673864004717653546/poo',\n",
       " '_template': \"<h1>Popular Fruitas</h1><p>This is a list of popular fruitas.</p>{{ fig }}<p>yeah? wot--</p>{{ wot|historical('wot', 3) }}<h2>now a wot chart</h2>{{ wot|chart('wot', 7, 'timestamp') }}<h3>finally, basic wot is {{wot}}</h3>\"}"
      ]
     },
     "execution_count": 5,
     "metadata": {},
     "output_type": "execute_result"
    }
   ],
   "source": [
    "c._update()"
   ]
  },
  {
   "cell_type": "code",
   "execution_count": 83,
   "id": "bf695615-effe-4daa-89d1-ed876e622961",
   "metadata": {
    "tags": []
   },
   "outputs": [],
   "source": [
    "c._basic_auth = {\"username\": \"wot\", \"password\": \"wot\"}"
   ]
  },
  {
   "cell_type": "code",
   "execution_count": 84,
   "id": "0e978e02-eb8c-4fb4-bd51-a53dd8299ada",
   "metadata": {
    "tags": []
   },
   "outputs": [
    {
     "data": {
      "text/plain": [
       "{'__meta__': {'_basic_auth': {'username': 'wot', 'password': 'wot'}},\n",
       " 'fig': {'type': 'basic', 'value': 'IDK WOT'},\n",
       " 'wot': {'type': 'basic', 'value': 124}}"
      ]
     },
     "execution_count": 84,
     "metadata": {},
     "output_type": "execute_result"
    }
   ],
   "source": [
    "c.fig = \"IDK WOT\"\n",
    "c.wot = 124\n",
    "c._update()"
   ]
  },
  {
   "cell_type": "code",
   "execution_count": 50,
   "id": "a0a0503b-a08a-41c8-960b-3c6ed0acdc96",
   "metadata": {
    "tags": []
   },
   "outputs": [],
   "source": [
    "c._template += \"<h4>hello2</h4>\""
   ]
  },
  {
   "cell_type": "code",
   "execution_count": 51,
   "id": "ea75d192-1ef4-4a0d-a834-45296bd6738e",
   "metadata": {
    "tags": []
   },
   "outputs": [
    {
     "data": {
      "text/plain": [
       "{'__meta__': {'_private': False}}"
      ]
     },
     "execution_count": 51,
     "metadata": {},
     "output_type": "execute_result"
    }
   ],
   "source": [
    "c._private = False\n",
    "c._update()"
   ]
  },
  {
   "cell_type": "code",
   "execution_count": 20,
   "id": "e5caea4d-0729-4e16-9efd-88dbcdba9599",
   "metadata": {
    "tags": []
   },
   "outputs": [
    {
     "data": {
      "text/plain": [
       "{'contributor_key': 'DMJ_2qoBWInur1ZRmbcTfdL-hqgeCasE',\n",
       " 'editor_key': 'nzMCbEv39GGniqnY-NVKU5j8ihobGg5X',\n",
       " 'url': '/page/111673864004717653546/poo'}"
      ]
     },
     "execution_count": 20,
     "metadata": {},
     "output_type": "execute_result"
    }
   ],
   "source": [
    "c._store_template()"
   ]
  },
  {
   "cell_type": "code",
   "execution_count": 13,
   "id": "b49f2fd0-94b2-4362-a77d-9ab66727b61f",
   "metadata": {
    "tags": []
   },
   "outputs": [],
   "source": [
    "c.yea = \"boof moof\""
   ]
  },
  {
   "cell_type": "code",
   "execution_count": 12,
   "id": "a30c4071-7ce5-49f4-8b84-88a7fe993c0b",
   "metadata": {
    "tags": []
   },
   "outputs": [
    {
     "data": {
      "text/plain": [
       "{'wot': {'type': 'error',\n",
       "  'value': 'Could not serialize. Object of type bytes is not JSON serializable'}}"
      ]
     },
     "execution_count": 12,
     "metadata": {},
     "output_type": "execute_result"
    }
   ],
   "source": [
    "c._update()"
   ]
  },
  {
   "cell_type": "code",
   "execution_count": 11,
   "id": "55a65011-8f25-4d0d-a49c-44303df5ee69",
   "metadata": {
    "tags": []
   },
   "outputs": [],
   "source": [
    "c._start()"
   ]
  },
  {
   "cell_type": "code",
   "execution_count": 13,
   "id": "f006a618-b03f-466a-b9d1-774779eb5aa2",
   "metadata": {
    "tags": []
   },
   "outputs": [],
   "source": [
    "c._stop()"
   ]
  },
  {
   "cell_type": "code",
   "execution_count": 15,
   "id": "50cb2322-4eea-4999-ac12-eb09408a92f2",
   "metadata": {
    "tags": []
   },
   "outputs": [],
   "source": [
    "c.wot = 2300"
   ]
  },
  {
   "cell_type": "code",
   "execution_count": 38,
   "id": "b7d00baa-8602-4143-9e06-0d49238e4006",
   "metadata": {
    "tags": []
   },
   "outputs": [],
   "source": [
    "c._dirty_set = set()"
   ]
  },
  {
   "cell_type": "code",
   "execution_count": 16,
   "id": "4431f91a-1700-4494-b442-0f455c29e1b8",
   "metadata": {
    "tags": []
   },
   "outputs": [
    {
     "data": {
      "text/plain": [
       "{'__meta__': {}, 'wot': {'type': 'basic', 'value': 2300}}"
      ]
     },
     "execution_count": 16,
     "metadata": {},
     "output_type": "execute_result"
    }
   ],
   "source": [
    "c._update()"
   ]
  },
  {
   "cell_type": "code",
   "execution_count": 8,
   "id": "4940d5cb-05c8-46c5-81f5-ec24dcd6b497",
   "metadata": {
    "tags": []
   },
   "outputs": [
    {
     "data": {
      "image/png": "[encoded data removed]",
      "text/plain": [
       "<Figure size 432x288 with 1 Axes>"
      ]
     },
     "metadata": {
      "needs_background": "light"
     },
     "output_type": "display_data"
    }
   ],
   "source": [
    "import matplotlib.pyplot as plt\n",
    "\n",
    "fig, ax = plt.subplots()\n",
    "\n",
    "fruits = ['apple', 'blueberry', 'cherry', 'orange']\n",
    "counts = [40, 100, 30, 55]\n",
    "bar_labels = ['red', 'blue', '_red', 'orange']\n",
    "bar_colors = ['tab:red', 'tab:blue', 'tab:red', 'tab:orange']\n",
    "\n",
    "ax.bar(fruits, counts, label=bar_labels, color=bar_colors)\n",
    "\n",
    "ax.set_ylabel('fruit supply')\n",
    "ax.set_title('Fruit supply by kind and color')\n",
    "ax.legend(title='Fruit color')\n",
    "\n",
    "plt.show()"
   ]
  },
  {
   "cell_type": "code",
   "execution_count": 9,
   "id": "e6d0d07e-c49a-4f12-9c98-f5d4c452814d",
   "metadata": {
    "tags": []
   },
   "outputs": [],
   "source": [
    "c.fig = fig"
   ]
  },
  {
   "cell_type": "code",
   "execution_count": 10,
   "id": "c065e325-4b16-4134-b071-4da09606ac11",
   "metadata": {
    "tags": []
   },
   "outputs": [
    {
     "data": {
      "text/plain": [
       "{'__meta__': {},\n",
       " 'fig': {'type': 'png_b64',\n",
       "  'value': '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'}}"
      ]
     },
     "execution_count": 10,
     "metadata": {},
     "output_type": "execute_result"
    }
   ],
   "source": [
    "c._update()"
   ]
  },
  {
   "cell_type": "code",
   "execution_count": 11,
   "id": "3998f86c-68fc-444b-b461-3e0092cbf85e",
   "metadata": {
    "tags": []
   },
   "outputs": [],
   "source": [
    "c.yea = fig"
   ]
  },
  {
   "cell_type": "code",
   "execution_count": 12,
   "id": "6e73cbc4-96fc-4b57-897f-b67c8cb980a5",
   "metadata": {
    "tags": []
   },
   "outputs": [
    {
     "data": {
      "text/plain": [
       "{'__meta__': {},\n",
       " 'yea': {'type': 'png_b64',\n",
       "  'value': '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'}}"
      ]
     },
     "execution_count": 12,
     "metadata": {},
     "output_type": "execute_result"
    }
   ],
   "source": [
    "c._update()"
   ]
  },
  {
   "cell_type": "code",
   "execution_count": null,
   "id": "bd6afd2e-7d63-44f0-8aef-98516c16b242",
   "metadata": {},
   "outputs": [],
   "source": []
  }
 ],
 "metadata": {
  "kernelspec": {
   "display_name": "Python 3 (ipykernel)",
   "language": "python",
   "name": "python3"
  },
  "language_info": {
   "codemirror_mode": {
    "name": "ipython",
    "version": 3
   },
   "file_extension": ".py",
   "mimetype": "text/x-python",
   "name": "python",
   "nbconvert_exporter": "python",
   "pygments_lexer": "ipython3",
   "version": "3.8.10"
  }
 },
 "nbformat": 4,
 "nbformat_minor": 5
}
